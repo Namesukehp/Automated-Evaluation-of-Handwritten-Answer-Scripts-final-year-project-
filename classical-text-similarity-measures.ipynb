{
 "cells": [
  {
   "cell_type": "markdown",
   "id": "d427b6e6",
   "metadata": {
    "papermill": {
     "duration": 0.014253,
     "end_time": "2023-04-01T16:02:55.371208",
     "exception": false,
     "start_time": "2023-04-01T16:02:55.356955",
     "status": "completed"
    },
    "tags": []
   },
   "source": [
    "> # **Introduction**\n",
    "> \n",
    "> So in this notebook, I shall be explaining and implementing classical stringmatching algorithms to measure the similairty score between 2 words.  \n",
    ">   \n",
    "> We shall first be using NLP techniques to preprocess and prepare the data, afterwhich we shall be implementing the following algorithms:  \n",
    ">   \n",
    "> 1) cosine similarity \n",
    "> \n",
    "> 2) jaccard index\n",
    ">\n",
    "> 3) levenshtein distance \n",
    ">\n",
    "> 4) euclidean distance\n",
    ">\n",
    "> Do upvote if you like my work :), also please feel free to comment or let me know if you believe there are areas I can improve upon."
   ]
  },
  {
   "cell_type": "code",
   "execution_count": 1,
   "id": "035f21eb",
   "metadata": {
    "execution": {
     "iopub.execute_input": "2023-04-01T16:02:55.398871Z",
     "iopub.status.busy": "2023-04-01T16:02:55.398323Z",
     "iopub.status.idle": "2023-04-01T16:02:55.418510Z",
     "shell.execute_reply": "2023-04-01T16:02:55.417173Z"
    },
    "papermill": {
     "duration": 0.037713,
     "end_time": "2023-04-01T16:02:55.421705",
     "exception": false,
     "start_time": "2023-04-01T16:02:55.383992",
     "status": "completed"
    },
    "tags": []
   },
   "outputs": [
    {
     "name": "stdout",
     "output_type": "stream",
     "text": [
      "/kaggle/input/us-patent-phrase-to-phrase-matching/sample_submission.csv\n",
      "/kaggle/input/us-patent-phrase-to-phrase-matching/train.csv\n",
      "/kaggle/input/us-patent-phrase-to-phrase-matching/test.csv\n"
     ]
    }
   ],
   "source": [
    "# This Python 3 environment comes with many helpful analytics libraries installed\n",
    "# It is defined by the kaggle/python Docker image: https://github.com/kaggle/docker-python\n",
    "# For example, here's several helpful packages to load\n",
    "\n",
    "import numpy as np # linear algebra\n",
    "import pandas as pd # data processing, CSV file I/O (e.g. pd.read_csv)\n",
    "\n",
    "# Input data files are available in the read-only \"../input/\" directory\n",
    "# For example, running this (by clicking run or pressing Shift+Enter) will list all files under the input directory\n",
    "\n",
    "import os\n",
    "for dirname, _, filenames in os.walk('/kaggle/input'):\n",
    "    for filename in filenames:\n",
    "        print(os.path.join(dirname, filename))\n",
    "\n",
    "# You can write up to 20GB to the current directory (/kaggle/working/) that gets preserved as output when you create a version using \"Save & Run All\" \n",
    "# You can also write temporary files to /kaggle/temp/, but they won't be saved outside of the current session"
   ]
  },
  {
   "cell_type": "markdown",
   "id": "898574c3",
   "metadata": {
    "papermill": {
     "duration": 0.012478,
     "end_time": "2023-04-01T16:02:55.448033",
     "exception": false,
     "start_time": "2023-04-01T16:02:55.435555",
     "status": "completed"
    },
    "tags": []
   },
   "source": [
    "# - Reading the Data and Data Preprocessing"
   ]
  },
  {
   "cell_type": "markdown",
   "id": "723a9ad8",
   "metadata": {
    "papermill": {
     "duration": 0.012415,
     "end_time": "2023-04-01T16:02:55.474985",
     "exception": false,
     "start_time": "2023-04-01T16:02:55.462570",
     "status": "completed"
    },
    "tags": []
   },
   "source": [
    "> **In This segment I shall be importing all necessary libraries and preprocessing the data before we compute our similarty measures**.\n",
    ">\n",
    "> **I have used a number of libraries for preprocessing including NLTK, Textacy and gensim among others. You shall have to install Textacy as it is not pre installed on Kaggle.**"
   ]
  },
  {
   "cell_type": "code",
   "execution_count": 2,
   "id": "6fb4b528",
   "metadata": {
    "execution": {
     "iopub.execute_input": "2023-04-01T16:02:55.502284Z",
     "iopub.status.busy": "2023-04-01T16:02:55.501858Z",
     "iopub.status.idle": "2023-04-01T16:03:09.137878Z",
     "shell.execute_reply": "2023-04-01T16:03:09.136372Z"
    },
    "papermill": {
     "duration": 13.653477,
     "end_time": "2023-04-01T16:03:09.141252",
     "exception": false,
     "start_time": "2023-04-01T16:02:55.487775",
     "status": "completed"
    },
    "tags": []
   },
   "outputs": [
    {
     "name": "stdout",
     "output_type": "stream",
     "text": [
      "Collecting textacy\r\n",
      "  Downloading textacy-0.11.0-py3-none-any.whl (200 kB)\r\n",
      "\u001b[2K     \u001b[90m━━━━━━━━━━━━━━━━━━━━━━━━━━━━━━━━━━━━━━━\u001b[0m \u001b[32m200.4/200.4 kB\u001b[0m \u001b[31m4.7 MB/s\u001b[0m eta \u001b[36m0:00:00\u001b[0m\r\n",
      "\u001b[?25hRequirement already satisfied: tqdm>=4.19.6 in /opt/conda/lib/python3.7/site-packages (from textacy) (4.64.1)\r\n",
      "Requirement already satisfied: requests>=2.10.0 in /opt/conda/lib/python3.7/site-packages (from textacy) (2.28.2)\r\n",
      "Requirement already satisfied: scipy>=0.17.0 in /opt/conda/lib/python3.7/site-packages (from textacy) (1.7.3)\r\n",
      "Requirement already satisfied: cytoolz>=0.10.1 in /opt/conda/lib/python3.7/site-packages (from textacy) (0.12.1)\r\n",
      "Requirement already satisfied: networkx>=2.0 in /opt/conda/lib/python3.7/site-packages (from textacy) (2.6.3)\r\n",
      "Requirement already satisfied: scikit-learn>=0.19.0 in /opt/conda/lib/python3.7/site-packages (from textacy) (1.0.2)\r\n",
      "Requirement already satisfied: spacy>=3.0.0 in /opt/conda/lib/python3.7/site-packages (from textacy) (3.5.0)\r\n",
      "Requirement already satisfied: cachetools>=4.0.0 in /opt/conda/lib/python3.7/site-packages (from textacy) (4.2.4)\r\n",
      "Requirement already satisfied: joblib>=0.13.0 in /opt/conda/lib/python3.7/site-packages (from textacy) (1.2.0)\r\n",
      "Requirement already satisfied: numpy>=1.17.0 in /opt/conda/lib/python3.7/site-packages (from textacy) (1.21.6)\r\n",
      "Collecting pyphen>=0.10.0\r\n",
      "  Downloading pyphen-0.14.0-py3-none-any.whl (2.0 MB)\r\n",
      "\u001b[2K     \u001b[90m━━━━━━━━━━━━━━━━━━━━━━━━━━━━━━━━━━━━━━━━\u001b[0m \u001b[32m2.0/2.0 MB\u001b[0m \u001b[31m29.5 MB/s\u001b[0m eta \u001b[36m0:00:00\u001b[0m\r\n",
      "\u001b[?25hCollecting jellyfish>=0.8.0\r\n",
      "  Downloading jellyfish-0.11.1-cp37-cp37m-manylinux_2_17_x86_64.manylinux2014_x86_64.whl (1.2 MB)\r\n",
      "\u001b[2K     \u001b[90m━━━━━━━━━━━━━━━━━━━━━━━━━━━━━━━━━━━━━━━━\u001b[0m \u001b[32m1.2/1.2 MB\u001b[0m \u001b[31m50.3 MB/s\u001b[0m eta \u001b[36m0:00:00\u001b[0m\r\n",
      "\u001b[?25hRequirement already satisfied: toolz>=0.8.0 in /opt/conda/lib/python3.7/site-packages (from cytoolz>=0.10.1->textacy) (0.11.2)\r\n",
      "Requirement already satisfied: certifi>=2017.4.17 in /opt/conda/lib/python3.7/site-packages (from requests>=2.10.0->textacy) (2022.12.7)\r\n",
      "Requirement already satisfied: idna<4,>=2.5 in /opt/conda/lib/python3.7/site-packages (from requests>=2.10.0->textacy) (3.4)\r\n",
      "Requirement already satisfied: urllib3<1.27,>=1.21.1 in /opt/conda/lib/python3.7/site-packages (from requests>=2.10.0->textacy) (1.26.14)\r\n",
      "Requirement already satisfied: charset-normalizer<4,>=2 in /opt/conda/lib/python3.7/site-packages (from requests>=2.10.0->textacy) (2.1.1)\r\n",
      "Requirement already satisfied: threadpoolctl>=2.0.0 in /opt/conda/lib/python3.7/site-packages (from scikit-learn>=0.19.0->textacy) (3.1.0)\r\n",
      "Requirement already satisfied: srsly<3.0.0,>=2.4.3 in /opt/conda/lib/python3.7/site-packages (from spacy>=3.0.0->textacy) (2.4.5)\r\n",
      "Requirement already satisfied: murmurhash<1.1.0,>=0.28.0 in /opt/conda/lib/python3.7/site-packages (from spacy>=3.0.0->textacy) (1.0.9)\r\n",
      "Requirement already satisfied: smart-open<7.0.0,>=5.2.1 in /opt/conda/lib/python3.7/site-packages (from spacy>=3.0.0->textacy) (6.3.0)\r\n",
      "Requirement already satisfied: pydantic!=1.8,!=1.8.1,<1.11.0,>=1.7.4 in /opt/conda/lib/python3.7/site-packages (from spacy>=3.0.0->textacy) (1.10.4)\r\n",
      "Requirement already satisfied: setuptools in /opt/conda/lib/python3.7/site-packages (from spacy>=3.0.0->textacy) (59.8.0)\r\n",
      "Requirement already satisfied: preshed<3.1.0,>=3.0.2 in /opt/conda/lib/python3.7/site-packages (from spacy>=3.0.0->textacy) (3.0.8)\r\n",
      "Requirement already satisfied: spacy-loggers<2.0.0,>=1.0.0 in /opt/conda/lib/python3.7/site-packages (from spacy>=3.0.0->textacy) (1.0.4)\r\n",
      "Requirement already satisfied: packaging>=20.0 in /opt/conda/lib/python3.7/site-packages (from spacy>=3.0.0->textacy) (23.0)\r\n",
      "Requirement already satisfied: langcodes<4.0.0,>=3.2.0 in /opt/conda/lib/python3.7/site-packages (from spacy>=3.0.0->textacy) (3.3.0)\r\n",
      "Requirement already satisfied: typing-extensions<4.5.0,>=3.7.4.1 in /opt/conda/lib/python3.7/site-packages (from spacy>=3.0.0->textacy) (4.4.0)\r\n",
      "Requirement already satisfied: thinc<8.2.0,>=8.1.0 in /opt/conda/lib/python3.7/site-packages (from spacy>=3.0.0->textacy) (8.1.7)\r\n",
      "Requirement already satisfied: spacy-legacy<3.1.0,>=3.0.11 in /opt/conda/lib/python3.7/site-packages (from spacy>=3.0.0->textacy) (3.0.12)\r\n",
      "Requirement already satisfied: wasabi<1.2.0,>=0.9.1 in /opt/conda/lib/python3.7/site-packages (from spacy>=3.0.0->textacy) (1.1.1)\r\n",
      "Requirement already satisfied: pathy>=0.10.0 in /opt/conda/lib/python3.7/site-packages (from spacy>=3.0.0->textacy) (0.10.1)\r\n",
      "Requirement already satisfied: typer<0.8.0,>=0.3.0 in /opt/conda/lib/python3.7/site-packages (from spacy>=3.0.0->textacy) (0.7.0)\r\n",
      "Requirement already satisfied: cymem<2.1.0,>=2.0.2 in /opt/conda/lib/python3.7/site-packages (from spacy>=3.0.0->textacy) (2.0.7)\r\n",
      "Requirement already satisfied: jinja2 in /opt/conda/lib/python3.7/site-packages (from spacy>=3.0.0->textacy) (3.1.2)\r\n",
      "Requirement already satisfied: catalogue<2.1.0,>=2.0.6 in /opt/conda/lib/python3.7/site-packages (from spacy>=3.0.0->textacy) (2.0.8)\r\n",
      "Requirement already satisfied: zipp>=0.5 in /opt/conda/lib/python3.7/site-packages (from catalogue<2.1.0,>=2.0.6->spacy>=3.0.0->textacy) (3.11.0)\r\n",
      "Requirement already satisfied: confection<1.0.0,>=0.0.1 in /opt/conda/lib/python3.7/site-packages (from thinc<8.2.0,>=8.1.0->spacy>=3.0.0->textacy) (0.0.4)\r\n",
      "Requirement already satisfied: blis<0.8.0,>=0.7.8 in /opt/conda/lib/python3.7/site-packages (from thinc<8.2.0,>=8.1.0->spacy>=3.0.0->textacy) (0.7.9)\r\n",
      "Requirement already satisfied: click<9.0.0,>=7.1.1 in /opt/conda/lib/python3.7/site-packages (from typer<0.8.0,>=0.3.0->spacy>=3.0.0->textacy) (8.1.3)\r\n",
      "Requirement already satisfied: MarkupSafe>=2.0 in /opt/conda/lib/python3.7/site-packages (from jinja2->spacy>=3.0.0->textacy) (2.1.1)\r\n",
      "Requirement already satisfied: importlib-metadata in /opt/conda/lib/python3.7/site-packages (from click<9.0.0,>=7.1.1->typer<0.8.0,>=0.3.0->spacy>=3.0.0->textacy) (4.11.4)\r\n",
      "Installing collected packages: pyphen, jellyfish, textacy\r\n",
      "Successfully installed jellyfish-0.11.1 pyphen-0.14.0 textacy-0.11.0\r\n",
      "\u001b[33mWARNING: Running pip as the 'root' user can result in broken permissions and conflicting behaviour with the system package manager. It is recommended to use a virtual environment instead: https://pip.pypa.io/warnings/venv\u001b[0m\u001b[33m\r\n",
      "\u001b[0m"
     ]
    }
   ],
   "source": [
    "# DOWNLOADING TEXTACY\n",
    "\n",
    "!pip install textacy"
   ]
  },
  {
   "cell_type": "markdown",
   "id": "950cf808",
   "metadata": {
    "papermill": {
     "duration": 0.013926,
     "end_time": "2023-04-01T16:03:09.169611",
     "exception": false,
     "start_time": "2023-04-01T16:03:09.155685",
     "status": "completed"
    },
    "tags": []
   },
   "source": [
    "* > **Let us import the rest of the libraries.**"
   ]
  },
  {
   "cell_type": "code",
   "execution_count": 3,
   "id": "309a5f0c",
   "metadata": {
    "execution": {
     "iopub.execute_input": "2023-04-01T16:03:09.200829Z",
     "iopub.status.busy": "2023-04-01T16:03:09.200411Z",
     "iopub.status.idle": "2023-04-01T16:03:28.349318Z",
     "shell.execute_reply": "2023-04-01T16:03:28.347905Z"
    },
    "papermill": {
     "duration": 19.168777,
     "end_time": "2023-04-01T16:03:28.352602",
     "exception": false,
     "start_time": "2023-04-01T16:03:09.183825",
     "status": "completed"
    },
    "tags": []
   },
   "outputs": [],
   "source": [
    "# IMPORTING NECESSARY LIBRARIES\n",
    "\n",
    "from textacy import preprocessing\n",
    "from nltk.corpus import stopwords\n",
    "from sklearn.feature_extraction.text import TfidfVectorizer\n",
    "from sklearn.metrics import accuracy_score\n",
    "from sklearn.model_selection import train_test_split\n",
    "import nltk\n",
    "from nltk.stem import WordNetLemmatizer\n",
    "from nltk.stem.snowball import SnowballStemmer\n",
    "from gensim.models import Word2Vec\n",
    "import gensim"
   ]
  },
  {
   "cell_type": "markdown",
   "id": "5d42a584",
   "metadata": {
    "papermill": {
     "duration": 0.013575,
     "end_time": "2023-04-01T16:03:28.380560",
     "exception": false,
     "start_time": "2023-04-01T16:03:28.366985",
     "status": "completed"
    },
    "tags": []
   },
   "source": [
    "* > **Lets start, by first reading and exploring the data!**"
   ]
  },
  {
   "cell_type": "code",
   "execution_count": 4,
   "id": "fcd767a9",
   "metadata": {
    "execution": {
     "iopub.execute_input": "2023-04-01T16:03:28.410830Z",
     "iopub.status.busy": "2023-04-01T16:03:28.409949Z",
     "iopub.status.idle": "2023-04-01T16:03:28.546587Z",
     "shell.execute_reply": "2023-04-01T16:03:28.545260Z"
    },
    "papermill": {
     "duration": 0.155038,
     "end_time": "2023-04-01T16:03:28.549488",
     "exception": false,
     "start_time": "2023-04-01T16:03:28.394450",
     "status": "completed"
    },
    "tags": []
   },
   "outputs": [
    {
     "data": {
      "text/html": [
       "<div>\n",
       "<style scoped>\n",
       "    .dataframe tbody tr th:only-of-type {\n",
       "        vertical-align: middle;\n",
       "    }\n",
       "\n",
       "    .dataframe tbody tr th {\n",
       "        vertical-align: top;\n",
       "    }\n",
       "\n",
       "    .dataframe thead th {\n",
       "        text-align: right;\n",
       "    }\n",
       "</style>\n",
       "<table border=\"1\" class=\"dataframe\">\n",
       "  <thead>\n",
       "    <tr style=\"text-align: right;\">\n",
       "      <th></th>\n",
       "      <th>id</th>\n",
       "      <th>anchor</th>\n",
       "      <th>target</th>\n",
       "      <th>context</th>\n",
       "      <th>score</th>\n",
       "    </tr>\n",
       "  </thead>\n",
       "  <tbody>\n",
       "    <tr>\n",
       "      <th>0</th>\n",
       "      <td>37d61fd2272659b1</td>\n",
       "      <td>abatement</td>\n",
       "      <td>abatement of pollution</td>\n",
       "      <td>A47</td>\n",
       "      <td>0.50</td>\n",
       "    </tr>\n",
       "    <tr>\n",
       "      <th>1</th>\n",
       "      <td>7b9652b17b68b7a4</td>\n",
       "      <td>abatement</td>\n",
       "      <td>act of abating</td>\n",
       "      <td>A47</td>\n",
       "      <td>0.75</td>\n",
       "    </tr>\n",
       "    <tr>\n",
       "      <th>2</th>\n",
       "      <td>36d72442aefd8232</td>\n",
       "      <td>abatement</td>\n",
       "      <td>active catalyst</td>\n",
       "      <td>A47</td>\n",
       "      <td>0.25</td>\n",
       "    </tr>\n",
       "    <tr>\n",
       "      <th>3</th>\n",
       "      <td>5296b0c19e1ce60e</td>\n",
       "      <td>abatement</td>\n",
       "      <td>eliminating process</td>\n",
       "      <td>A47</td>\n",
       "      <td>0.50</td>\n",
       "    </tr>\n",
       "    <tr>\n",
       "      <th>4</th>\n",
       "      <td>54c1e3b9184cb5b6</td>\n",
       "      <td>abatement</td>\n",
       "      <td>forest region</td>\n",
       "      <td>A47</td>\n",
       "      <td>0.00</td>\n",
       "    </tr>\n",
       "  </tbody>\n",
       "</table>\n",
       "</div>"
      ],
      "text/plain": [
       "                 id     anchor                  target context  score\n",
       "0  37d61fd2272659b1  abatement  abatement of pollution     A47   0.50\n",
       "1  7b9652b17b68b7a4  abatement          act of abating     A47   0.75\n",
       "2  36d72442aefd8232  abatement         active catalyst     A47   0.25\n",
       "3  5296b0c19e1ce60e  abatement     eliminating process     A47   0.50\n",
       "4  54c1e3b9184cb5b6  abatement           forest region     A47   0.00"
      ]
     },
     "execution_count": 4,
     "metadata": {},
     "output_type": "execute_result"
    }
   ],
   "source": [
    "# READING THE DATA\n",
    "\n",
    "data = pd.read_csv(\"/kaggle/input/us-patent-phrase-to-phrase-matching/train.csv\")\n",
    "data.head(5)"
   ]
  },
  {
   "cell_type": "markdown",
   "id": "776bb79b",
   "metadata": {
    "papermill": {
     "duration": 0.01377,
     "end_time": "2023-04-01T16:03:28.577768",
     "exception": false,
     "start_time": "2023-04-01T16:03:28.563998",
     "status": "completed"
    },
    "tags": []
   },
   "source": [
    "* > **Since in this notebook we are only interested in leaning about classical similarity measures, there is no point keeping some columns, better remove them!**"
   ]
  },
  {
   "cell_type": "code",
   "execution_count": 5,
   "id": "d69b583f",
   "metadata": {
    "execution": {
     "iopub.execute_input": "2023-04-01T16:03:28.607844Z",
     "iopub.status.busy": "2023-04-01T16:03:28.607447Z",
     "iopub.status.idle": "2023-04-01T16:03:28.616475Z",
     "shell.execute_reply": "2023-04-01T16:03:28.615044Z"
    },
    "papermill": {
     "duration": 0.027358,
     "end_time": "2023-04-01T16:03:28.619031",
     "exception": false,
     "start_time": "2023-04-01T16:03:28.591673",
     "status": "completed"
    },
    "tags": []
   },
   "outputs": [],
   "source": [
    "# DROPPING SOME COLUMNS\n",
    "\n",
    "data.drop(columns = ['id', 'context'], inplace = True)"
   ]
  },
  {
   "cell_type": "code",
   "execution_count": 6,
   "id": "30ecc667",
   "metadata": {
    "execution": {
     "iopub.execute_input": "2023-04-01T16:03:28.650155Z",
     "iopub.status.busy": "2023-04-01T16:03:28.649400Z",
     "iopub.status.idle": "2023-04-01T16:03:28.662641Z",
     "shell.execute_reply": "2023-04-01T16:03:28.661141Z"
    },
    "papermill": {
     "duration": 0.031406,
     "end_time": "2023-04-01T16:03:28.665135",
     "exception": false,
     "start_time": "2023-04-01T16:03:28.633729",
     "status": "completed"
    },
    "tags": []
   },
   "outputs": [
    {
     "data": {
      "text/html": [
       "<div>\n",
       "<style scoped>\n",
       "    .dataframe tbody tr th:only-of-type {\n",
       "        vertical-align: middle;\n",
       "    }\n",
       "\n",
       "    .dataframe tbody tr th {\n",
       "        vertical-align: top;\n",
       "    }\n",
       "\n",
       "    .dataframe thead th {\n",
       "        text-align: right;\n",
       "    }\n",
       "</style>\n",
       "<table border=\"1\" class=\"dataframe\">\n",
       "  <thead>\n",
       "    <tr style=\"text-align: right;\">\n",
       "      <th></th>\n",
       "      <th>anchor</th>\n",
       "      <th>target</th>\n",
       "      <th>score</th>\n",
       "    </tr>\n",
       "  </thead>\n",
       "  <tbody>\n",
       "    <tr>\n",
       "      <th>0</th>\n",
       "      <td>abatement</td>\n",
       "      <td>abatement of pollution</td>\n",
       "      <td>0.50</td>\n",
       "    </tr>\n",
       "    <tr>\n",
       "      <th>1</th>\n",
       "      <td>abatement</td>\n",
       "      <td>act of abating</td>\n",
       "      <td>0.75</td>\n",
       "    </tr>\n",
       "    <tr>\n",
       "      <th>2</th>\n",
       "      <td>abatement</td>\n",
       "      <td>active catalyst</td>\n",
       "      <td>0.25</td>\n",
       "    </tr>\n",
       "    <tr>\n",
       "      <th>3</th>\n",
       "      <td>abatement</td>\n",
       "      <td>eliminating process</td>\n",
       "      <td>0.50</td>\n",
       "    </tr>\n",
       "    <tr>\n",
       "      <th>4</th>\n",
       "      <td>abatement</td>\n",
       "      <td>forest region</td>\n",
       "      <td>0.00</td>\n",
       "    </tr>\n",
       "  </tbody>\n",
       "</table>\n",
       "</div>"
      ],
      "text/plain": [
       "      anchor                  target  score\n",
       "0  abatement  abatement of pollution   0.50\n",
       "1  abatement          act of abating   0.75\n",
       "2  abatement         active catalyst   0.25\n",
       "3  abatement     eliminating process   0.50\n",
       "4  abatement           forest region   0.00"
      ]
     },
     "execution_count": 6,
     "metadata": {},
     "output_type": "execute_result"
    }
   ],
   "source": [
    "# REVIEW DATA \n",
    "\n",
    "data.head(5)"
   ]
  },
  {
   "cell_type": "markdown",
   "id": "f1da6d35",
   "metadata": {
    "papermill": {
     "duration": 0.013773,
     "end_time": "2023-04-01T16:03:28.693316",
     "exception": false,
     "start_time": "2023-04-01T16:03:28.679543",
     "status": "completed"
    },
    "tags": []
   },
   "source": [
    "*  > **In this segment we have used NLP techniques to clean up the data prior to implementing the similarity measures.**\n",
    ">  \n",
    "*  > **First it is important to ensure that all words have the same case so that vector representations can be same, \"A\" and \"a\" might be the same letter but not the same vector, thus we use lowercase() function below to change the words to a coomon case.**"
   ]
  },
  {
   "cell_type": "code",
   "execution_count": 7,
   "id": "94b48fa3",
   "metadata": {
    "execution": {
     "iopub.execute_input": "2023-04-01T16:03:28.723647Z",
     "iopub.status.busy": "2023-04-01T16:03:28.723256Z",
     "iopub.status.idle": "2023-04-01T16:03:28.759411Z",
     "shell.execute_reply": "2023-04-01T16:03:28.758190Z"
    },
    "papermill": {
     "duration": 0.054989,
     "end_time": "2023-04-01T16:03:28.762573",
     "exception": false,
     "start_time": "2023-04-01T16:03:28.707584",
     "status": "completed"
    },
    "tags": []
   },
   "outputs": [],
   "source": [
    "# CONVERTING TEXT TO LOWER CASE\n",
    "\n",
    "data[\"anchor\"] = data[\"anchor\"].str.lower()\n",
    "data[\"target\"] = data[\"target\"].str.lower()"
   ]
  },
  {
   "cell_type": "markdown",
   "id": "c5234244",
   "metadata": {
    "papermill": {
     "duration": 0.014512,
     "end_time": "2023-04-01T16:03:28.791512",
     "exception": false,
     "start_time": "2023-04-01T16:03:28.777000",
     "status": "completed"
    },
    "tags": []
   },
   "source": [
    "* > **We shall also remove the stopwords from the columns which refers to removing common words like 'the', 'a', which do not add much semantic meaning to the text.**"
   ]
  },
  {
   "cell_type": "code",
   "execution_count": 8,
   "id": "3c64c8b0",
   "metadata": {
    "execution": {
     "iopub.execute_input": "2023-04-01T16:03:28.822682Z",
     "iopub.status.busy": "2023-04-01T16:03:28.822260Z",
     "iopub.status.idle": "2023-04-01T16:03:29.369428Z",
     "shell.execute_reply": "2023-04-01T16:03:29.368119Z"
    },
    "papermill": {
     "duration": 0.566455,
     "end_time": "2023-04-01T16:03:29.372320",
     "exception": false,
     "start_time": "2023-04-01T16:03:28.805865",
     "status": "completed"
    },
    "tags": []
   },
   "outputs": [],
   "source": [
    "# REMOVING THE STOPWORDS\n",
    "\n",
    "stop = stopwords.words('english')\n",
    "\n",
    "data[\"anchor\"] = data['anchor'].apply(lambda x: ' '.join([word for word in x.split() if word not in (stop)]))\n",
    "data[\"target\"] = data['target'].apply(lambda y: ' '.join([word for word in y.split() if word not in (stop)]))"
   ]
  },
  {
   "cell_type": "markdown",
   "id": "aa6a10de",
   "metadata": {
    "papermill": {
     "duration": 0.014046,
     "end_time": "2023-04-01T16:03:29.400683",
     "exception": false,
     "start_time": "2023-04-01T16:03:29.386637",
     "status": "completed"
    },
    "tags": []
   },
   "source": [
    "* > **Whitespaces, Hashtags and punctuations do not add any semantic meaning to the text but occupy vector representations, thus it is necessary to remove them.** "
   ]
  },
  {
   "cell_type": "code",
   "execution_count": 9,
   "id": "58a9887d",
   "metadata": {
    "execution": {
     "iopub.execute_input": "2023-04-01T16:03:29.431761Z",
     "iopub.status.busy": "2023-04-01T16:03:29.431332Z",
     "iopub.status.idle": "2023-04-01T16:03:30.936274Z",
     "shell.execute_reply": "2023-04-01T16:03:30.935246Z"
    },
    "papermill": {
     "duration": 1.524215,
     "end_time": "2023-04-01T16:03:30.939262",
     "exception": false,
     "start_time": "2023-04-01T16:03:29.415047",
     "status": "completed"
    },
    "tags": []
   },
   "outputs": [],
   "source": [
    "# REMOVING WHITESPACE, HASHTAGS. HTML TAGS AND PUNCTUATION\n",
    "\n",
    "preproc = preprocessing.make_pipeline(\n",
    "    preprocessing.remove.punctuation,\n",
    "    preprocessing.normalize.whitespace,\n",
    "    preprocessing.replace.hashtags,\n",
    "    preprocessing.remove.html_tags\n",
    " )\n",
    "\n",
    "data[\"anchor\"] = data[\"anchor\"].apply(preproc)\n",
    "data[\"target\"] = data[\"target\"].apply(preproc)"
   ]
  },
  {
   "cell_type": "markdown",
   "id": "1b3a4bb8",
   "metadata": {
    "papermill": {
     "duration": 0.01398,
     "end_time": "2023-04-01T16:03:30.967650",
     "exception": false,
     "start_time": "2023-04-01T16:03:30.953670",
     "status": "completed"
    },
    "tags": []
   },
   "source": [
    "* > **Let's look at our data after the initial preprocessing.**"
   ]
  },
  {
   "cell_type": "code",
   "execution_count": 10,
   "id": "425a6eec",
   "metadata": {
    "execution": {
     "iopub.execute_input": "2023-04-01T16:03:30.998826Z",
     "iopub.status.busy": "2023-04-01T16:03:30.998427Z",
     "iopub.status.idle": "2023-04-01T16:03:31.010423Z",
     "shell.execute_reply": "2023-04-01T16:03:31.009060Z"
    },
    "papermill": {
     "duration": 0.031001,
     "end_time": "2023-04-01T16:03:31.012860",
     "exception": false,
     "start_time": "2023-04-01T16:03:30.981859",
     "status": "completed"
    },
    "tags": []
   },
   "outputs": [
    {
     "data": {
      "text/html": [
       "<div>\n",
       "<style scoped>\n",
       "    .dataframe tbody tr th:only-of-type {\n",
       "        vertical-align: middle;\n",
       "    }\n",
       "\n",
       "    .dataframe tbody tr th {\n",
       "        vertical-align: top;\n",
       "    }\n",
       "\n",
       "    .dataframe thead th {\n",
       "        text-align: right;\n",
       "    }\n",
       "</style>\n",
       "<table border=\"1\" class=\"dataframe\">\n",
       "  <thead>\n",
       "    <tr style=\"text-align: right;\">\n",
       "      <th></th>\n",
       "      <th>anchor</th>\n",
       "      <th>target</th>\n",
       "      <th>score</th>\n",
       "    </tr>\n",
       "  </thead>\n",
       "  <tbody>\n",
       "    <tr>\n",
       "      <th>0</th>\n",
       "      <td>abatement</td>\n",
       "      <td>abatement pollution</td>\n",
       "      <td>0.50</td>\n",
       "    </tr>\n",
       "    <tr>\n",
       "      <th>1</th>\n",
       "      <td>abatement</td>\n",
       "      <td>act abating</td>\n",
       "      <td>0.75</td>\n",
       "    </tr>\n",
       "    <tr>\n",
       "      <th>2</th>\n",
       "      <td>abatement</td>\n",
       "      <td>active catalyst</td>\n",
       "      <td>0.25</td>\n",
       "    </tr>\n",
       "    <tr>\n",
       "      <th>3</th>\n",
       "      <td>abatement</td>\n",
       "      <td>eliminating process</td>\n",
       "      <td>0.50</td>\n",
       "    </tr>\n",
       "    <tr>\n",
       "      <th>4</th>\n",
       "      <td>abatement</td>\n",
       "      <td>forest region</td>\n",
       "      <td>0.00</td>\n",
       "    </tr>\n",
       "  </tbody>\n",
       "</table>\n",
       "</div>"
      ],
      "text/plain": [
       "      anchor               target  score\n",
       "0  abatement  abatement pollution   0.50\n",
       "1  abatement          act abating   0.75\n",
       "2  abatement      active catalyst   0.25\n",
       "3  abatement  eliminating process   0.50\n",
       "4  abatement        forest region   0.00"
      ]
     },
     "execution_count": 10,
     "metadata": {},
     "output_type": "execute_result"
    }
   ],
   "source": [
    "# REVIEW THE DATA\n",
    "\n",
    "data.head()"
   ]
  },
  {
   "cell_type": "markdown",
   "id": "9180deeb",
   "metadata": {
    "papermill": {
     "duration": 0.014378,
     "end_time": "2023-04-01T16:03:31.042266",
     "exception": false,
     "start_time": "2023-04-01T16:03:31.027888",
     "status": "completed"
    },
    "tags": []
   },
   "source": [
    "* > **In the below cell we shall implement stemming which is a method of reducing the words to their root stem, thus making it easier for later comparisons.**"
   ]
  },
  {
   "cell_type": "code",
   "execution_count": 11,
   "id": "30e3b777",
   "metadata": {
    "execution": {
     "iopub.execute_input": "2023-04-01T16:03:31.074859Z",
     "iopub.status.busy": "2023-04-01T16:03:31.074458Z",
     "iopub.status.idle": "2023-04-01T16:03:32.396673Z",
     "shell.execute_reply": "2023-04-01T16:03:32.395430Z"
    },
    "papermill": {
     "duration": 1.34144,
     "end_time": "2023-04-01T16:03:32.399376",
     "exception": false,
     "start_time": "2023-04-01T16:03:31.057936",
     "status": "completed"
    },
    "tags": []
   },
   "outputs": [],
   "source": [
    "# STEMMING THE WORDS USING SNOWBALL STEMMER\n",
    "\n",
    "stemmer = SnowballStemmer(\"english\")\n",
    "data['anchor'] = data['anchor'].apply(lambda x: stemmer.stem(x))\n",
    "data['target'] = data['target'].apply(lambda x: stemmer.stem(x))"
   ]
  },
  {
   "cell_type": "markdown",
   "id": "ae396287",
   "metadata": {
    "papermill": {
     "duration": 0.014438,
     "end_time": "2023-04-01T16:03:32.429122",
     "exception": false,
     "start_time": "2023-04-01T16:03:32.414684",
     "status": "completed"
    },
    "tags": []
   },
   "source": [
    "* > **Let's see how our data looks after Stemming.**"
   ]
  },
  {
   "cell_type": "code",
   "execution_count": 12,
   "id": "9745d007",
   "metadata": {
    "execution": {
     "iopub.execute_input": "2023-04-01T16:03:32.460649Z",
     "iopub.status.busy": "2023-04-01T16:03:32.460234Z",
     "iopub.status.idle": "2023-04-01T16:03:32.472564Z",
     "shell.execute_reply": "2023-04-01T16:03:32.471250Z"
    },
    "papermill": {
     "duration": 0.031276,
     "end_time": "2023-04-01T16:03:32.475204",
     "exception": false,
     "start_time": "2023-04-01T16:03:32.443928",
     "status": "completed"
    },
    "tags": []
   },
   "outputs": [
    {
     "data": {
      "text/html": [
       "<div>\n",
       "<style scoped>\n",
       "    .dataframe tbody tr th:only-of-type {\n",
       "        vertical-align: middle;\n",
       "    }\n",
       "\n",
       "    .dataframe tbody tr th {\n",
       "        vertical-align: top;\n",
       "    }\n",
       "\n",
       "    .dataframe thead th {\n",
       "        text-align: right;\n",
       "    }\n",
       "</style>\n",
       "<table border=\"1\" class=\"dataframe\">\n",
       "  <thead>\n",
       "    <tr style=\"text-align: right;\">\n",
       "      <th></th>\n",
       "      <th>anchor</th>\n",
       "      <th>target</th>\n",
       "      <th>score</th>\n",
       "    </tr>\n",
       "  </thead>\n",
       "  <tbody>\n",
       "    <tr>\n",
       "      <th>0</th>\n",
       "      <td>abat</td>\n",
       "      <td>abatement pollut</td>\n",
       "      <td>0.50</td>\n",
       "    </tr>\n",
       "    <tr>\n",
       "      <th>1</th>\n",
       "      <td>abat</td>\n",
       "      <td>act ab</td>\n",
       "      <td>0.75</td>\n",
       "    </tr>\n",
       "    <tr>\n",
       "      <th>2</th>\n",
       "      <td>abat</td>\n",
       "      <td>active catalyst</td>\n",
       "      <td>0.25</td>\n",
       "    </tr>\n",
       "    <tr>\n",
       "      <th>3</th>\n",
       "      <td>abat</td>\n",
       "      <td>eliminating process</td>\n",
       "      <td>0.50</td>\n",
       "    </tr>\n",
       "    <tr>\n",
       "      <th>4</th>\n",
       "      <td>abat</td>\n",
       "      <td>forest region</td>\n",
       "      <td>0.00</td>\n",
       "    </tr>\n",
       "  </tbody>\n",
       "</table>\n",
       "</div>"
      ],
      "text/plain": [
       "  anchor               target  score\n",
       "0   abat     abatement pollut   0.50\n",
       "1   abat               act ab   0.75\n",
       "2   abat      active catalyst   0.25\n",
       "3   abat  eliminating process   0.50\n",
       "4   abat        forest region   0.00"
      ]
     },
     "execution_count": 12,
     "metadata": {},
     "output_type": "execute_result"
    }
   ],
   "source": [
    "# REVIEW THE DATA\n",
    "\n",
    "data.head(5)"
   ]
  },
  {
   "cell_type": "markdown",
   "id": "e039e20b",
   "metadata": {
    "papermill": {
     "duration": 0.014306,
     "end_time": "2023-04-01T16:03:32.504753",
     "exception": false,
     "start_time": "2023-04-01T16:03:32.490447",
     "status": "completed"
    },
    "tags": []
   },
   "source": [
    "* > **We shall also be converting our Text into Vectors using TF-IDF algorithm, this is necessary as some similarity measures compare the distance between vectors.**"
   ]
  },
  {
   "cell_type": "code",
   "execution_count": 13,
   "id": "8307212c",
   "metadata": {
    "execution": {
     "iopub.execute_input": "2023-04-01T16:03:32.536145Z",
     "iopub.status.busy": "2023-04-01T16:03:32.535721Z",
     "iopub.status.idle": "2023-04-01T16:03:33.241362Z",
     "shell.execute_reply": "2023-04-01T16:03:33.240015Z"
    },
    "papermill": {
     "duration": 0.725165,
     "end_time": "2023-04-01T16:03:33.244412",
     "exception": false,
     "start_time": "2023-04-01T16:03:32.519247",
     "status": "completed"
    },
    "tags": []
   },
   "outputs": [],
   "source": [
    "# CONVERTING TEXT TO VECTORS USING TF-IDF ALGORITHM\n",
    "\n",
    "tf = TfidfVectorizer(analyzer = 'char')\n",
    "\n",
    "anchor_tf = tf.fit_transform(data['anchor']).toarray()\n",
    "target_tf = tf.transform(data['target']).toarray()"
   ]
  },
  {
   "cell_type": "markdown",
   "id": "151e5b1f",
   "metadata": {
    "papermill": {
     "duration": 0.014463,
     "end_time": "2023-04-01T16:03:33.273809",
     "exception": false,
     "start_time": "2023-04-01T16:03:33.259346",
     "status": "completed"
    },
    "tags": []
   },
   "source": [
    "* > **Let's check the shape of the resulting vectors.**"
   ]
  },
  {
   "cell_type": "code",
   "execution_count": 14,
   "id": "636502d3",
   "metadata": {
    "execution": {
     "iopub.execute_input": "2023-04-01T16:03:33.304954Z",
     "iopub.status.busy": "2023-04-01T16:03:33.304521Z",
     "iopub.status.idle": "2023-04-01T16:03:33.310600Z",
     "shell.execute_reply": "2023-04-01T16:03:33.309159Z"
    },
    "papermill": {
     "duration": 0.024986,
     "end_time": "2023-04-01T16:03:33.313441",
     "exception": false,
     "start_time": "2023-04-01T16:03:33.288455",
     "status": "completed"
    },
    "tags": []
   },
   "outputs": [
    {
     "name": "stdout",
     "output_type": "stream",
     "text": [
      "(36473, 30)\n",
      "(36473, 30)\n"
     ]
    }
   ],
   "source": [
    "# CHECKING SHAPE OF THE VECTORS FORMED USING TF-IDF\n",
    "\n",
    "print(anchor_tf.shape)\n",
    "print(target_tf.shape)"
   ]
  },
  {
   "cell_type": "markdown",
   "id": "d63d8f7c",
   "metadata": {
    "papermill": {
     "duration": 0.014378,
     "end_time": "2023-04-01T16:03:33.342663",
     "exception": false,
     "start_time": "2023-04-01T16:03:33.328285",
     "status": "completed"
    },
    "tags": []
   },
   "source": [
    "* > **Now that we have completed our preprocessing, let's move on to computing the similarity measures.**"
   ]
  },
  {
   "cell_type": "markdown",
   "id": "29401de5",
   "metadata": {
    "papermill": {
     "duration": 0.014649,
     "end_time": "2023-04-01T16:03:33.372382",
     "exception": false,
     "start_time": "2023-04-01T16:03:33.357733",
     "status": "completed"
    },
    "tags": []
   },
   "source": [
    "># **1) COSINE SIMILARITY**\n",
    ">   \n",
    "> * Cosine similarity is used to compute the similarity between 2 vectors, wherein the resultant score is the cosine of the angle between the 2 vectors in multi dimensional space.\n",
    ">   \n",
    "> * So the similarity measure is computed by taking a dot product of the 2 vectors and then dividing the dot product by the product of the magnitudes of the vectors.  \n",
    "> \n",
    "> * The advantage it offers above other measures like Euclidean distance is that it is calculates the orientation of vectors with respect to each other and not the magnitude so incase vectors have varied sizes, Euclidean distance shall show a high seperation between the vectors but Cosine similarity can still be less.\n"
   ]
  },
  {
   "cell_type": "code",
   "execution_count": 15,
   "id": "bde6caa4",
   "metadata": {
    "execution": {
     "iopub.execute_input": "2023-04-01T16:03:33.404443Z",
     "iopub.status.busy": "2023-04-01T16:03:33.403947Z",
     "iopub.status.idle": "2023-04-01T16:03:34.669466Z",
     "shell.execute_reply": "2023-04-01T16:03:34.668152Z"
    },
    "papermill": {
     "duration": 1.285564,
     "end_time": "2023-04-01T16:03:34.673159",
     "exception": false,
     "start_time": "2023-04-01T16:03:33.387595",
     "status": "completed"
    },
    "tags": []
   },
   "outputs": [
    {
     "name": "stderr",
     "output_type": "stream",
     "text": [
      "/opt/conda/lib/python3.7/site-packages/scipy/spatial/distance.py:699: RuntimeWarning: invalid value encountered in double_scalars\n",
      "  dist = 1.0 - uv / np.sqrt(uu * vv)\n"
     ]
    }
   ],
   "source": [
    "from scipy import spatial\n",
    "\n",
    "cos_sim_vals  = []\n",
    "\n",
    "for a, t in zip(anchor_tf, target_tf):\n",
    "    similarity = 1 - spatial.distance.cosine(a, t)\n",
    "    cos_sim_vals.append(similarity)"
   ]
  },
  {
   "cell_type": "code",
   "execution_count": 16,
   "id": "e868650d",
   "metadata": {
    "execution": {
     "iopub.execute_input": "2023-04-01T16:03:34.706974Z",
     "iopub.status.busy": "2023-04-01T16:03:34.705860Z",
     "iopub.status.idle": "2023-04-01T16:03:34.718716Z",
     "shell.execute_reply": "2023-04-01T16:03:34.717461Z"
    },
    "papermill": {
     "duration": 0.032172,
     "end_time": "2023-04-01T16:03:34.721161",
     "exception": false,
     "start_time": "2023-04-01T16:03:34.688989",
     "status": "completed"
    },
    "tags": []
   },
   "outputs": [],
   "source": [
    "data[\"Cosine Similarity\"] = cos_sim_vals"
   ]
  },
  {
   "cell_type": "markdown",
   "id": "16425c04",
   "metadata": {
    "papermill": {
     "duration": 0.014493,
     "end_time": "2023-04-01T16:03:34.750968",
     "exception": false,
     "start_time": "2023-04-01T16:03:34.736475",
     "status": "completed"
    },
    "tags": []
   },
   "source": [
    "> * **Let's review the measure by printing the data.*"
   ]
  },
  {
   "cell_type": "code",
   "execution_count": 17,
   "id": "ac83f2cb",
   "metadata": {
    "execution": {
     "iopub.execute_input": "2023-04-01T16:03:34.782929Z",
     "iopub.status.busy": "2023-04-01T16:03:34.782228Z",
     "iopub.status.idle": "2023-04-01T16:03:34.796924Z",
     "shell.execute_reply": "2023-04-01T16:03:34.795676Z"
    },
    "papermill": {
     "duration": 0.033617,
     "end_time": "2023-04-01T16:03:34.799309",
     "exception": false,
     "start_time": "2023-04-01T16:03:34.765692",
     "status": "completed"
    },
    "tags": []
   },
   "outputs": [
    {
     "data": {
      "text/html": [
       "<div>\n",
       "<style scoped>\n",
       "    .dataframe tbody tr th:only-of-type {\n",
       "        vertical-align: middle;\n",
       "    }\n",
       "\n",
       "    .dataframe tbody tr th {\n",
       "        vertical-align: top;\n",
       "    }\n",
       "\n",
       "    .dataframe thead th {\n",
       "        text-align: right;\n",
       "    }\n",
       "</style>\n",
       "<table border=\"1\" class=\"dataframe\">\n",
       "  <thead>\n",
       "    <tr style=\"text-align: right;\">\n",
       "      <th></th>\n",
       "      <th>anchor</th>\n",
       "      <th>target</th>\n",
       "      <th>score</th>\n",
       "      <th>Cosine Similarity</th>\n",
       "    </tr>\n",
       "  </thead>\n",
       "  <tbody>\n",
       "    <tr>\n",
       "      <th>0</th>\n",
       "      <td>abat</td>\n",
       "      <td>abatement pollut</td>\n",
       "      <td>0.50</td>\n",
       "      <td>0.616771</td>\n",
       "    </tr>\n",
       "    <tr>\n",
       "      <th>1</th>\n",
       "      <td>abat</td>\n",
       "      <td>act ab</td>\n",
       "      <td>0.75</td>\n",
       "      <td>0.894857</td>\n",
       "    </tr>\n",
       "    <tr>\n",
       "      <th>2</th>\n",
       "      <td>abat</td>\n",
       "      <td>active catalyst</td>\n",
       "      <td>0.25</td>\n",
       "      <td>0.494009</td>\n",
       "    </tr>\n",
       "    <tr>\n",
       "      <th>3</th>\n",
       "      <td>abat</td>\n",
       "      <td>eliminating process</td>\n",
       "      <td>0.50</td>\n",
       "      <td>0.161542</td>\n",
       "    </tr>\n",
       "    <tr>\n",
       "      <th>4</th>\n",
       "      <td>abat</td>\n",
       "      <td>forest region</td>\n",
       "      <td>0.00</td>\n",
       "      <td>0.071977</td>\n",
       "    </tr>\n",
       "  </tbody>\n",
       "</table>\n",
       "</div>"
      ],
      "text/plain": [
       "  anchor               target  score  Cosine Similarity\n",
       "0   abat     abatement pollut   0.50           0.616771\n",
       "1   abat               act ab   0.75           0.894857\n",
       "2   abat      active catalyst   0.25           0.494009\n",
       "3   abat  eliminating process   0.50           0.161542\n",
       "4   abat        forest region   0.00           0.071977"
      ]
     },
     "execution_count": 17,
     "metadata": {},
     "output_type": "execute_result"
    }
   ],
   "source": [
    "data.head()"
   ]
  },
  {
   "cell_type": "markdown",
   "id": "881eddbc",
   "metadata": {
    "papermill": {
     "duration": 0.015312,
     "end_time": "2023-04-01T16:03:34.830054",
     "exception": false,
     "start_time": "2023-04-01T16:03:34.814742",
     "status": "completed"
    },
    "tags": []
   },
   "source": [
    "># **2) LEVENSHTEIN DISTANCE**\n",
    ">   \n",
    "> \n",
    "> * Levenshtein distance is a popular stringmatching algorithm that tells us how much change shall be required to made to a text in order to transform it to the other.\n",
    "> \n",
    "> * More simply it measures how different 2 words are from each other."
   ]
  },
  {
   "cell_type": "code",
   "execution_count": 18,
   "id": "5f0258a6",
   "metadata": {
    "execution": {
     "iopub.execute_input": "2023-04-01T16:03:34.862753Z",
     "iopub.status.busy": "2023-04-01T16:03:34.862037Z",
     "iopub.status.idle": "2023-04-01T16:03:46.525903Z",
     "shell.execute_reply": "2023-04-01T16:03:46.524568Z"
    },
    "papermill": {
     "duration": 11.683447,
     "end_time": "2023-04-01T16:03:46.528790",
     "exception": false,
     "start_time": "2023-04-01T16:03:34.845343",
     "status": "completed"
    },
    "tags": []
   },
   "outputs": [
    {
     "name": "stdout",
     "output_type": "stream",
     "text": [
      "Requirement already satisfied: python-Levenshtein in /opt/conda/lib/python3.7/site-packages (0.20.9)\r\n",
      "Requirement already satisfied: Levenshtein==0.20.9 in /opt/conda/lib/python3.7/site-packages (from python-Levenshtein) (0.20.9)\r\n",
      "Requirement already satisfied: rapidfuzz<3.0.0,>=2.3.0 in /opt/conda/lib/python3.7/site-packages (from Levenshtein==0.20.9->python-Levenshtein) (2.13.7)\r\n",
      "\u001b[33mWARNING: Running pip as the 'root' user can result in broken permissions and conflicting behaviour with the system package manager. It is recommended to use a virtual environment instead: https://pip.pypa.io/warnings/venv\u001b[0m\u001b[33m\r\n",
      "\u001b[0m"
     ]
    }
   ],
   "source": [
    "!pip install python-Levenshtein\n",
    "from Levenshtein import distance as lev"
   ]
  },
  {
   "cell_type": "code",
   "execution_count": 19,
   "id": "197aca3d",
   "metadata": {
    "execution": {
     "iopub.execute_input": "2023-04-01T16:03:46.563518Z",
     "iopub.status.busy": "2023-04-01T16:03:46.562935Z",
     "iopub.status.idle": "2023-04-01T16:03:46.569502Z",
     "shell.execute_reply": "2023-04-01T16:03:46.568182Z"
    },
    "papermill": {
     "duration": 0.026704,
     "end_time": "2023-04-01T16:03:46.572044",
     "exception": false,
     "start_time": "2023-04-01T16:03:46.545340",
     "status": "completed"
    },
    "tags": []
   },
   "outputs": [],
   "source": [
    "from Levenshtein import ratio"
   ]
  },
  {
   "cell_type": "markdown",
   "id": "3f074d0c",
   "metadata": {
    "papermill": {
     "duration": 0.015056,
     "end_time": "2023-04-01T16:03:46.602409",
     "exception": false,
     "start_time": "2023-04-01T16:03:46.587353",
     "status": "completed"
    },
    "tags": []
   },
   "source": [
    "> * **Let;s compute the Levenshtein Distance and store it as a list.**"
   ]
  },
  {
   "cell_type": "code",
   "execution_count": 20,
   "id": "4961b5ad",
   "metadata": {
    "execution": {
     "iopub.execute_input": "2023-04-01T16:03:46.635472Z",
     "iopub.status.busy": "2023-04-01T16:03:46.635034Z",
     "iopub.status.idle": "2023-04-01T16:03:46.703636Z",
     "shell.execute_reply": "2023-04-01T16:03:46.702342Z"
    },
    "papermill": {
     "duration": 0.088772,
     "end_time": "2023-04-01T16:03:46.706569",
     "exception": false,
     "start_time": "2023-04-01T16:03:46.617797",
     "status": "completed"
    },
    "tags": []
   },
   "outputs": [],
   "source": [
    "lev_sim_vals  = []\n",
    "\n",
    "for a, t in zip(data[\"anchor\"], data[\"target\"]):\n",
    "    lev_similarity = ratio(a, t)\n",
    "    lev_sim_vals.append(lev_similarity)"
   ]
  },
  {
   "cell_type": "markdown",
   "id": "db4e7cd9",
   "metadata": {
    "papermill": {
     "duration": 0.014919,
     "end_time": "2023-04-01T16:03:46.736813",
     "exception": false,
     "start_time": "2023-04-01T16:03:46.721894",
     "status": "completed"
    },
    "tags": []
   },
   "source": [
    "> * **We can now add the list to the data**"
   ]
  },
  {
   "cell_type": "code",
   "execution_count": 21,
   "id": "f562799f",
   "metadata": {
    "execution": {
     "iopub.execute_input": "2023-04-01T16:03:46.770245Z",
     "iopub.status.busy": "2023-04-01T16:03:46.769662Z",
     "iopub.status.idle": "2023-04-01T16:03:46.783134Z",
     "shell.execute_reply": "2023-04-01T16:03:46.781830Z"
    },
    "papermill": {
     "duration": 0.033215,
     "end_time": "2023-04-01T16:03:46.785861",
     "exception": false,
     "start_time": "2023-04-01T16:03:46.752646",
     "status": "completed"
    },
    "tags": []
   },
   "outputs": [],
   "source": [
    "data[\"Levenshtein Ratio\"] = lev_sim_vals"
   ]
  },
  {
   "cell_type": "code",
   "execution_count": 22,
   "id": "05e284dd",
   "metadata": {
    "execution": {
     "iopub.execute_input": "2023-04-01T16:03:46.820003Z",
     "iopub.status.busy": "2023-04-01T16:03:46.819574Z",
     "iopub.status.idle": "2023-04-01T16:03:46.835377Z",
     "shell.execute_reply": "2023-04-01T16:03:46.834306Z"
    },
    "papermill": {
     "duration": 0.035688,
     "end_time": "2023-04-01T16:03:46.837741",
     "exception": false,
     "start_time": "2023-04-01T16:03:46.802053",
     "status": "completed"
    },
    "tags": []
   },
   "outputs": [
    {
     "data": {
      "text/html": [
       "<div>\n",
       "<style scoped>\n",
       "    .dataframe tbody tr th:only-of-type {\n",
       "        vertical-align: middle;\n",
       "    }\n",
       "\n",
       "    .dataframe tbody tr th {\n",
       "        vertical-align: top;\n",
       "    }\n",
       "\n",
       "    .dataframe thead th {\n",
       "        text-align: right;\n",
       "    }\n",
       "</style>\n",
       "<table border=\"1\" class=\"dataframe\">\n",
       "  <thead>\n",
       "    <tr style=\"text-align: right;\">\n",
       "      <th></th>\n",
       "      <th>anchor</th>\n",
       "      <th>target</th>\n",
       "      <th>score</th>\n",
       "      <th>Cosine Similarity</th>\n",
       "      <th>Levenshtein Ratio</th>\n",
       "    </tr>\n",
       "  </thead>\n",
       "  <tbody>\n",
       "    <tr>\n",
       "      <th>0</th>\n",
       "      <td>abat</td>\n",
       "      <td>abatement pollut</td>\n",
       "      <td>0.50</td>\n",
       "      <td>0.616771</td>\n",
       "      <td>0.400000</td>\n",
       "    </tr>\n",
       "    <tr>\n",
       "      <th>1</th>\n",
       "      <td>abat</td>\n",
       "      <td>act ab</td>\n",
       "      <td>0.75</td>\n",
       "      <td>0.894857</td>\n",
       "      <td>0.400000</td>\n",
       "    </tr>\n",
       "    <tr>\n",
       "      <th>2</th>\n",
       "      <td>abat</td>\n",
       "      <td>active catalyst</td>\n",
       "      <td>0.25</td>\n",
       "      <td>0.494009</td>\n",
       "      <td>0.315789</td>\n",
       "    </tr>\n",
       "    <tr>\n",
       "      <th>3</th>\n",
       "      <td>abat</td>\n",
       "      <td>eliminating process</td>\n",
       "      <td>0.50</td>\n",
       "      <td>0.161542</td>\n",
       "      <td>0.173913</td>\n",
       "    </tr>\n",
       "    <tr>\n",
       "      <th>4</th>\n",
       "      <td>abat</td>\n",
       "      <td>forest region</td>\n",
       "      <td>0.00</td>\n",
       "      <td>0.071977</td>\n",
       "      <td>0.117647</td>\n",
       "    </tr>\n",
       "  </tbody>\n",
       "</table>\n",
       "</div>"
      ],
      "text/plain": [
       "  anchor               target  score  Cosine Similarity  Levenshtein Ratio\n",
       "0   abat     abatement pollut   0.50           0.616771           0.400000\n",
       "1   abat               act ab   0.75           0.894857           0.400000\n",
       "2   abat      active catalyst   0.25           0.494009           0.315789\n",
       "3   abat  eliminating process   0.50           0.161542           0.173913\n",
       "4   abat        forest region   0.00           0.071977           0.117647"
      ]
     },
     "execution_count": 22,
     "metadata": {},
     "output_type": "execute_result"
    }
   ],
   "source": [
    "data.head(5)"
   ]
  },
  {
   "cell_type": "markdown",
   "id": "7ecfaa55",
   "metadata": {
    "papermill": {
     "duration": 0.015821,
     "end_time": "2023-04-01T16:03:46.868937",
     "exception": false,
     "start_time": "2023-04-01T16:03:46.853116",
     "status": "completed"
    },
    "tags": []
   },
   "source": [
    "># **3) JACCARD SCORE**\n",
    ">   \n",
    "> * The Jaccard score is a popular score used to measure the similarity between 2 vectors/sequences.\n",
    "> \n",
    "> * It has a score ranging from 0 to 1, higher the score more the similarity\n",
    "> \n",
    "> * It is mathematically computed as the intersection of items present in both sequences divided by the union of items present in both. It's applications are vast, and I have even used in Link Prediction tasks in Network Science ;)"
   ]
  },
  {
   "cell_type": "code",
   "execution_count": 23,
   "id": "c7911885",
   "metadata": {
    "execution": {
     "iopub.execute_input": "2023-04-01T16:03:46.901964Z",
     "iopub.status.busy": "2023-04-01T16:03:46.901550Z",
     "iopub.status.idle": "2023-04-01T16:04:00.533420Z",
     "shell.execute_reply": "2023-04-01T16:04:00.532201Z"
    },
    "papermill": {
     "duration": 13.651806,
     "end_time": "2023-04-01T16:04:00.536284",
     "exception": false,
     "start_time": "2023-04-01T16:03:46.884478",
     "status": "completed"
    },
    "tags": []
   },
   "outputs": [
    {
     "name": "stdout",
     "output_type": "stream",
     "text": [
      "Collecting Distance\r\n",
      "  Downloading Distance-0.1.3.tar.gz (180 kB)\r\n",
      "\u001b[2K     \u001b[90m━━━━━━━━━━━━━━━━━━━━━━━━━━━━━━━━━━━━━━━\u001b[0m \u001b[32m180.3/180.3 kB\u001b[0m \u001b[31m4.3 MB/s\u001b[0m eta \u001b[36m0:00:00\u001b[0m\r\n",
      "\u001b[?25h  Preparing metadata (setup.py) ... \u001b[?25l-\b \bdone\r\n",
      "\u001b[?25hBuilding wheels for collected packages: Distance\r\n",
      "  Building wheel for Distance (setup.py) ... \u001b[?25l-\b \b\\\b \bdone\r\n",
      "\u001b[?25h  Created wheel for Distance: filename=Distance-0.1.3-py3-none-any.whl size=16275 sha256=ae4b300e4488e0bcea89863d8f6dbaf9ab8cd5af07cb82902d2b12bea0941af0\r\n",
      "  Stored in directory: /root/.cache/pip/wheels/80/1f/f0/543667b99d48d533fb25ce9e4a05189276c96df9e560880cf3\r\n",
      "Successfully built Distance\r\n",
      "Installing collected packages: Distance\r\n",
      "Successfully installed Distance-0.1.3\r\n",
      "\u001b[33mWARNING: Running pip as the 'root' user can result in broken permissions and conflicting behaviour with the system package manager. It is recommended to use a virtual environment instead: https://pip.pypa.io/warnings/venv\u001b[0m\u001b[33m\r\n",
      "\u001b[0m"
     ]
    },
    {
     "data": {
      "text/plain": [
       "0.7142857142857143"
      ]
     },
     "execution_count": 23,
     "metadata": {},
     "output_type": "execute_result"
    }
   ],
   "source": [
    "!pip install Distance\n",
    "\n",
    "import distance\n",
    "\n",
    "distance.jaccard(\"decide\", \"resize\")"
   ]
  },
  {
   "cell_type": "markdown",
   "id": "c39a6000",
   "metadata": {
    "papermill": {
     "duration": 0.016181,
     "end_time": "2023-04-01T16:04:00.569691",
     "exception": false,
     "start_time": "2023-04-01T16:04:00.553510",
     "status": "completed"
    },
    "tags": []
   },
   "source": [
    "> * **We shall compute the Jaccard Index and store it in a list.**"
   ]
  },
  {
   "cell_type": "code",
   "execution_count": 24,
   "id": "136224b8",
   "metadata": {
    "execution": {
     "iopub.execute_input": "2023-04-01T16:04:00.605573Z",
     "iopub.status.busy": "2023-04-01T16:04:00.604827Z",
     "iopub.status.idle": "2023-04-01T16:04:00.738770Z",
     "shell.execute_reply": "2023-04-01T16:04:00.737226Z"
    },
    "papermill": {
     "duration": 0.155351,
     "end_time": "2023-04-01T16:04:00.742011",
     "exception": false,
     "start_time": "2023-04-01T16:04:00.586660",
     "status": "completed"
    },
    "tags": []
   },
   "outputs": [],
   "source": [
    "jac_sim_vals  = []\n",
    "\n",
    "for a, t in zip(data[\"anchor\"], data[\"target\"]):\n",
    "    jac_sim = distance.jaccard(a, t)\n",
    "    jac_sim_vals.append(jac_sim)"
   ]
  },
  {
   "cell_type": "markdown",
   "id": "f3babecd",
   "metadata": {
    "papermill": {
     "duration": 0.016985,
     "end_time": "2023-04-01T16:04:00.776262",
     "exception": false,
     "start_time": "2023-04-01T16:04:00.759277",
     "status": "completed"
    },
    "tags": []
   },
   "source": [
    "> * **Now let's add the list as a new column to the data.**"
   ]
  },
  {
   "cell_type": "code",
   "execution_count": 25,
   "id": "b8616457",
   "metadata": {
    "execution": {
     "iopub.execute_input": "2023-04-01T16:04:00.811404Z",
     "iopub.status.busy": "2023-04-01T16:04:00.810880Z",
     "iopub.status.idle": "2023-04-01T16:04:00.824423Z",
     "shell.execute_reply": "2023-04-01T16:04:00.823348Z"
    },
    "papermill": {
     "duration": 0.034654,
     "end_time": "2023-04-01T16:04:00.827293",
     "exception": false,
     "start_time": "2023-04-01T16:04:00.792639",
     "status": "completed"
    },
    "tags": []
   },
   "outputs": [],
   "source": [
    "data[\"Jaccard Similarity\"] = jac_sim_vals"
   ]
  },
  {
   "cell_type": "markdown",
   "id": "ff64195f",
   "metadata": {
    "papermill": {
     "duration": 0.016889,
     "end_time": "2023-04-01T16:04:00.860738",
     "exception": false,
     "start_time": "2023-04-01T16:04:00.843849",
     "status": "completed"
    },
    "tags": []
   },
   "source": [
    "> * **Let's reveiew our resulting data**"
   ]
  },
  {
   "cell_type": "code",
   "execution_count": 26,
   "id": "19806134",
   "metadata": {
    "execution": {
     "iopub.execute_input": "2023-04-01T16:04:00.895557Z",
     "iopub.status.busy": "2023-04-01T16:04:00.894665Z",
     "iopub.status.idle": "2023-04-01T16:04:00.911408Z",
     "shell.execute_reply": "2023-04-01T16:04:00.910304Z"
    },
    "papermill": {
     "duration": 0.037015,
     "end_time": "2023-04-01T16:04:00.913931",
     "exception": false,
     "start_time": "2023-04-01T16:04:00.876916",
     "status": "completed"
    },
    "tags": []
   },
   "outputs": [
    {
     "data": {
      "text/html": [
       "<div>\n",
       "<style scoped>\n",
       "    .dataframe tbody tr th:only-of-type {\n",
       "        vertical-align: middle;\n",
       "    }\n",
       "\n",
       "    .dataframe tbody tr th {\n",
       "        vertical-align: top;\n",
       "    }\n",
       "\n",
       "    .dataframe thead th {\n",
       "        text-align: right;\n",
       "    }\n",
       "</style>\n",
       "<table border=\"1\" class=\"dataframe\">\n",
       "  <thead>\n",
       "    <tr style=\"text-align: right;\">\n",
       "      <th></th>\n",
       "      <th>anchor</th>\n",
       "      <th>target</th>\n",
       "      <th>score</th>\n",
       "      <th>Cosine Similarity</th>\n",
       "      <th>Levenshtein Ratio</th>\n",
       "      <th>Jaccard Similarity</th>\n",
       "    </tr>\n",
       "  </thead>\n",
       "  <tbody>\n",
       "    <tr>\n",
       "      <th>0</th>\n",
       "      <td>abat</td>\n",
       "      <td>abatement pollut</td>\n",
       "      <td>0.50</td>\n",
       "      <td>0.616771</td>\n",
       "      <td>0.400000</td>\n",
       "      <td>0.727273</td>\n",
       "    </tr>\n",
       "    <tr>\n",
       "      <th>1</th>\n",
       "      <td>abat</td>\n",
       "      <td>act ab</td>\n",
       "      <td>0.75</td>\n",
       "      <td>0.894857</td>\n",
       "      <td>0.400000</td>\n",
       "      <td>0.400000</td>\n",
       "    </tr>\n",
       "    <tr>\n",
       "      <th>2</th>\n",
       "      <td>abat</td>\n",
       "      <td>active catalyst</td>\n",
       "      <td>0.25</td>\n",
       "      <td>0.494009</td>\n",
       "      <td>0.315789</td>\n",
       "      <td>0.818182</td>\n",
       "    </tr>\n",
       "    <tr>\n",
       "      <th>3</th>\n",
       "      <td>abat</td>\n",
       "      <td>eliminating process</td>\n",
       "      <td>0.50</td>\n",
       "      <td>0.161542</td>\n",
       "      <td>0.173913</td>\n",
       "      <td>0.866667</td>\n",
       "    </tr>\n",
       "    <tr>\n",
       "      <th>4</th>\n",
       "      <td>abat</td>\n",
       "      <td>forest region</td>\n",
       "      <td>0.00</td>\n",
       "      <td>0.071977</td>\n",
       "      <td>0.117647</td>\n",
       "      <td>0.916667</td>\n",
       "    </tr>\n",
       "  </tbody>\n",
       "</table>\n",
       "</div>"
      ],
      "text/plain": [
       "  anchor               target  score  Cosine Similarity  Levenshtein Ratio  \\\n",
       "0   abat     abatement pollut   0.50           0.616771           0.400000   \n",
       "1   abat               act ab   0.75           0.894857           0.400000   \n",
       "2   abat      active catalyst   0.25           0.494009           0.315789   \n",
       "3   abat  eliminating process   0.50           0.161542           0.173913   \n",
       "4   abat        forest region   0.00           0.071977           0.117647   \n",
       "\n",
       "   Jaccard Similarity  \n",
       "0            0.727273  \n",
       "1            0.400000  \n",
       "2            0.818182  \n",
       "3            0.866667  \n",
       "4            0.916667  "
      ]
     },
     "execution_count": 26,
     "metadata": {},
     "output_type": "execute_result"
    }
   ],
   "source": [
    "data.head(5)"
   ]
  },
  {
   "cell_type": "markdown",
   "id": "946b4e36",
   "metadata": {
    "papermill": {
     "duration": 0.016208,
     "end_time": "2023-04-01T16:04:00.946617",
     "exception": false,
     "start_time": "2023-04-01T16:04:00.930409",
     "status": "completed"
    },
    "tags": []
   },
   "source": [
    ">#  **4) EUCLIDEAN DISTANCE**\n",
    "> \n",
    "> * Euclidean distance is used to measure the shortest distance between 2 points in an n dimensional space.\n",
    ">  \n",
    "> * It is more simply the L2 norm between the vectors in the n dimensional space. \n",
    ">\n",
    "> * This is the most classical method used for similarity measurement, but carries alot of limitations."
   ]
  },
  {
   "cell_type": "code",
   "execution_count": 27,
   "id": "88d46600",
   "metadata": {
    "execution": {
     "iopub.execute_input": "2023-04-01T16:04:00.982437Z",
     "iopub.status.busy": "2023-04-01T16:04:00.981643Z",
     "iopub.status.idle": "2023-04-01T16:04:00.986154Z",
     "shell.execute_reply": "2023-04-01T16:04:00.985301Z"
    },
    "papermill": {
     "duration": 0.025482,
     "end_time": "2023-04-01T16:04:00.988799",
     "exception": false,
     "start_time": "2023-04-01T16:04:00.963317",
     "status": "completed"
    },
    "tags": []
   },
   "outputs": [],
   "source": [
    "from sklearn.preprocessing import MinMaxScaler"
   ]
  },
  {
   "cell_type": "markdown",
   "id": "7c27aeb0",
   "metadata": {
    "papermill": {
     "duration": 0.016287,
     "end_time": "2023-04-01T16:04:01.022056",
     "exception": false,
     "start_time": "2023-04-01T16:04:01.005769",
     "status": "completed"
    },
    "tags": []
   },
   "source": [
    "> * **Lets compute the euclidean distance first and store it as a list.**"
   ]
  },
  {
   "cell_type": "code",
   "execution_count": 28,
   "id": "f9274751",
   "metadata": {
    "execution": {
     "iopub.execute_input": "2023-04-01T16:04:01.057589Z",
     "iopub.status.busy": "2023-04-01T16:04:01.056576Z",
     "iopub.status.idle": "2023-04-01T16:04:01.292622Z",
     "shell.execute_reply": "2023-04-01T16:04:01.291573Z"
    },
    "papermill": {
     "duration": 0.257009,
     "end_time": "2023-04-01T16:04:01.295531",
     "exception": false,
     "start_time": "2023-04-01T16:04:01.038522",
     "status": "completed"
    },
    "tags": []
   },
   "outputs": [],
   "source": [
    "euc_sim_vals = []\n",
    "for a, t in zip(anchor_tf, target_tf):\n",
    "    dist = np.linalg.norm(a-t)\n",
    "    euc_sim_vals.append(dist)"
   ]
  },
  {
   "cell_type": "code",
   "execution_count": 29,
   "id": "369b5c7e",
   "metadata": {
    "execution": {
     "iopub.execute_input": "2023-04-01T16:04:01.331701Z",
     "iopub.status.busy": "2023-04-01T16:04:01.331117Z",
     "iopub.status.idle": "2023-04-01T16:04:01.339420Z",
     "shell.execute_reply": "2023-04-01T16:04:01.337881Z"
    },
    "papermill": {
     "duration": 0.029925,
     "end_time": "2023-04-01T16:04:01.342319",
     "exception": false,
     "start_time": "2023-04-01T16:04:01.312394",
     "status": "completed"
    },
    "tags": []
   },
   "outputs": [
    {
     "data": {
      "text/plain": [
       "36473"
      ]
     },
     "execution_count": 29,
     "metadata": {},
     "output_type": "execute_result"
    }
   ],
   "source": [
    "len(euc_sim_vals)"
   ]
  },
  {
   "cell_type": "markdown",
   "id": "cc57f4b1",
   "metadata": {
    "papermill": {
     "duration": 0.016783,
     "end_time": "2023-04-01T16:04:01.376600",
     "exception": false,
     "start_time": "2023-04-01T16:04:01.359817",
     "status": "completed"
    },
    "tags": []
   },
   "source": [
    "> * **We shall need to convert the list to an array for furhte steps.**"
   ]
  },
  {
   "cell_type": "code",
   "execution_count": 30,
   "id": "f6f65900",
   "metadata": {
    "execution": {
     "iopub.execute_input": "2023-04-01T16:04:01.412497Z",
     "iopub.status.busy": "2023-04-01T16:04:01.412022Z",
     "iopub.status.idle": "2023-04-01T16:04:01.420607Z",
     "shell.execute_reply": "2023-04-01T16:04:01.419225Z"
    },
    "papermill": {
     "duration": 0.029831,
     "end_time": "2023-04-01T16:04:01.422982",
     "exception": false,
     "start_time": "2023-04-01T16:04:01.393151",
     "status": "completed"
    },
    "tags": []
   },
   "outputs": [],
   "source": [
    "euc_sim_vals = np.array(euc_sim_vals)"
   ]
  },
  {
   "cell_type": "code",
   "execution_count": 31,
   "id": "635d5350",
   "metadata": {
    "execution": {
     "iopub.execute_input": "2023-04-01T16:04:01.459712Z",
     "iopub.status.busy": "2023-04-01T16:04:01.458267Z",
     "iopub.status.idle": "2023-04-01T16:04:01.467005Z",
     "shell.execute_reply": "2023-04-01T16:04:01.466004Z"
    },
    "papermill": {
     "duration": 0.030093,
     "end_time": "2023-04-01T16:04:01.469864",
     "exception": false,
     "start_time": "2023-04-01T16:04:01.439771",
     "status": "completed"
    },
    "tags": []
   },
   "outputs": [
    {
     "data": {
      "text/plain": [
       "array([0.87547602, 0.45856902, 1.00597316, ..., 0.77594036, 0.64808072,\n",
       "       0.86214448])"
      ]
     },
     "execution_count": 31,
     "metadata": {},
     "output_type": "execute_result"
    }
   ],
   "source": [
    "euc_sim_vals"
   ]
  },
  {
   "cell_type": "markdown",
   "id": "95de3da3",
   "metadata": {
    "papermill": {
     "duration": 0.016625,
     "end_time": "2023-04-01T16:04:01.503647",
     "exception": false,
     "start_time": "2023-04-01T16:04:01.487022",
     "status": "completed"
    },
    "tags": []
   },
   "source": [
    "> * **Let's normalize the distance to bring it between 0 and 1.**"
   ]
  },
  {
   "cell_type": "code",
   "execution_count": 32,
   "id": "b34cfeec",
   "metadata": {
    "execution": {
     "iopub.execute_input": "2023-04-01T16:04:01.539264Z",
     "iopub.status.busy": "2023-04-01T16:04:01.538544Z",
     "iopub.status.idle": "2023-04-01T16:04:01.548274Z",
     "shell.execute_reply": "2023-04-01T16:04:01.546743Z"
    },
    "papermill": {
     "duration": 0.0312,
     "end_time": "2023-04-01T16:04:01.551484",
     "exception": false,
     "start_time": "2023-04-01T16:04:01.520284",
     "status": "completed"
    },
    "tags": []
   },
   "outputs": [],
   "source": [
    "ss = MinMaxScaler()\n",
    "normalized_euc= ss.fit_transform(euc_sim_vals.reshape(-1,1))"
   ]
  },
  {
   "cell_type": "code",
   "execution_count": 33,
   "id": "b29897b7",
   "metadata": {
    "execution": {
     "iopub.execute_input": "2023-04-01T16:04:01.587825Z",
     "iopub.status.busy": "2023-04-01T16:04:01.587379Z",
     "iopub.status.idle": "2023-04-01T16:04:01.595005Z",
     "shell.execute_reply": "2023-04-01T16:04:01.593986Z"
    },
    "papermill": {
     "duration": 0.028926,
     "end_time": "2023-04-01T16:04:01.597700",
     "exception": false,
     "start_time": "2023-04-01T16:04:01.568774",
     "status": "completed"
    },
    "tags": []
   },
   "outputs": [
    {
     "data": {
      "text/plain": [
       "36473"
      ]
     },
     "execution_count": 33,
     "metadata": {},
     "output_type": "execute_result"
    }
   ],
   "source": [
    "len(normalized_euc)"
   ]
  },
  {
   "cell_type": "code",
   "execution_count": 34,
   "id": "922d367c",
   "metadata": {
    "execution": {
     "iopub.execute_input": "2023-04-01T16:04:01.633706Z",
     "iopub.status.busy": "2023-04-01T16:04:01.632794Z",
     "iopub.status.idle": "2023-04-01T16:04:01.638265Z",
     "shell.execute_reply": "2023-04-01T16:04:01.637178Z"
    },
    "papermill": {
     "duration": 0.026177,
     "end_time": "2023-04-01T16:04:01.640720",
     "exception": false,
     "start_time": "2023-04-01T16:04:01.614543",
     "status": "completed"
    },
    "tags": []
   },
   "outputs": [],
   "source": [
    "data[\"Normalized Eucliden\"] = normalized_euc"
   ]
  },
  {
   "cell_type": "markdown",
   "id": "9701d089",
   "metadata": {
    "papermill": {
     "duration": 0.016532,
     "end_time": "2023-04-01T16:04:01.674204",
     "exception": false,
     "start_time": "2023-04-01T16:04:01.657672",
     "status": "completed"
    },
    "tags": []
   },
   "source": [
    "> * **Let's finally review our measures.** "
   ]
  },
  {
   "cell_type": "code",
   "execution_count": 35,
   "id": "7fc4e4df",
   "metadata": {
    "execution": {
     "iopub.execute_input": "2023-04-01T16:04:01.710327Z",
     "iopub.status.busy": "2023-04-01T16:04:01.709597Z",
     "iopub.status.idle": "2023-04-01T16:04:01.724178Z",
     "shell.execute_reply": "2023-04-01T16:04:01.722853Z"
    },
    "papermill": {
     "duration": 0.03594,
     "end_time": "2023-04-01T16:04:01.727128",
     "exception": false,
     "start_time": "2023-04-01T16:04:01.691188",
     "status": "completed"
    },
    "tags": []
   },
   "outputs": [
    {
     "data": {
      "text/html": [
       "<div>\n",
       "<style scoped>\n",
       "    .dataframe tbody tr th:only-of-type {\n",
       "        vertical-align: middle;\n",
       "    }\n",
       "\n",
       "    .dataframe tbody tr th {\n",
       "        vertical-align: top;\n",
       "    }\n",
       "\n",
       "    .dataframe thead th {\n",
       "        text-align: right;\n",
       "    }\n",
       "</style>\n",
       "<table border=\"1\" class=\"dataframe\">\n",
       "  <thead>\n",
       "    <tr style=\"text-align: right;\">\n",
       "      <th></th>\n",
       "      <th>anchor</th>\n",
       "      <th>target</th>\n",
       "      <th>score</th>\n",
       "      <th>Cosine Similarity</th>\n",
       "      <th>Levenshtein Ratio</th>\n",
       "      <th>Jaccard Similarity</th>\n",
       "      <th>Normalized Eucliden</th>\n",
       "    </tr>\n",
       "  </thead>\n",
       "  <tbody>\n",
       "    <tr>\n",
       "      <th>0</th>\n",
       "      <td>abat</td>\n",
       "      <td>abatement pollut</td>\n",
       "      <td>0.50</td>\n",
       "      <td>0.616771</td>\n",
       "      <td>0.400000</td>\n",
       "      <td>0.727273</td>\n",
       "      <td>0.619055</td>\n",
       "    </tr>\n",
       "    <tr>\n",
       "      <th>1</th>\n",
       "      <td>abat</td>\n",
       "      <td>act ab</td>\n",
       "      <td>0.75</td>\n",
       "      <td>0.894857</td>\n",
       "      <td>0.400000</td>\n",
       "      <td>0.400000</td>\n",
       "      <td>0.324257</td>\n",
       "    </tr>\n",
       "    <tr>\n",
       "      <th>2</th>\n",
       "      <td>abat</td>\n",
       "      <td>active catalyst</td>\n",
       "      <td>0.25</td>\n",
       "      <td>0.494009</td>\n",
       "      <td>0.315789</td>\n",
       "      <td>0.818182</td>\n",
       "      <td>0.711330</td>\n",
       "    </tr>\n",
       "    <tr>\n",
       "      <th>3</th>\n",
       "      <td>abat</td>\n",
       "      <td>eliminating process</td>\n",
       "      <td>0.50</td>\n",
       "      <td>0.161542</td>\n",
       "      <td>0.173913</td>\n",
       "      <td>0.866667</td>\n",
       "      <td>0.915674</td>\n",
       "    </tr>\n",
       "    <tr>\n",
       "      <th>4</th>\n",
       "      <td>abat</td>\n",
       "      <td>forest region</td>\n",
       "      <td>0.00</td>\n",
       "      <td>0.071977</td>\n",
       "      <td>0.117647</td>\n",
       "      <td>0.916667</td>\n",
       "      <td>0.963339</td>\n",
       "    </tr>\n",
       "  </tbody>\n",
       "</table>\n",
       "</div>"
      ],
      "text/plain": [
       "  anchor               target  score  Cosine Similarity  Levenshtein Ratio  \\\n",
       "0   abat     abatement pollut   0.50           0.616771           0.400000   \n",
       "1   abat               act ab   0.75           0.894857           0.400000   \n",
       "2   abat      active catalyst   0.25           0.494009           0.315789   \n",
       "3   abat  eliminating process   0.50           0.161542           0.173913   \n",
       "4   abat        forest region   0.00           0.071977           0.117647   \n",
       "\n",
       "   Jaccard Similarity  Normalized Eucliden  \n",
       "0            0.727273             0.619055  \n",
       "1            0.400000             0.324257  \n",
       "2            0.818182             0.711330  \n",
       "3            0.866667             0.915674  \n",
       "4            0.916667             0.963339  "
      ]
     },
     "execution_count": 35,
     "metadata": {},
     "output_type": "execute_result"
    }
   ],
   "source": [
    "data.head(5)"
   ]
  }
 ],
 "metadata": {
  "kernelspec": {
   "display_name": "Python 3",
   "language": "python",
   "name": "python3"
  },
  "language_info": {
   "codemirror_mode": {
    "name": "ipython",
    "version": 3
   },
   "file_extension": ".py",
   "mimetype": "text/x-python",
   "name": "python",
   "nbconvert_exporter": "python",
   "pygments_lexer": "ipython3",
   "version": "3.7.12"
  },
  "papermill": {
   "default_parameters": {},
   "duration": 81.47912,
   "end_time": "2023-04-01T16:04:04.778742",
   "environment_variables": {},
   "exception": null,
   "input_path": "__notebook__.ipynb",
   "output_path": "__notebook__.ipynb",
   "parameters": {},
   "start_time": "2023-04-01T16:02:43.299622",
   "version": "2.4.0"
  }
 },
 "nbformat": 4,
 "nbformat_minor": 5
}
